{
 "cells": [
  {
   "cell_type": "code",
   "execution_count": 1,
   "metadata": {},
   "outputs": [
    {
     "data": {
      "text/html": [
       "<pre style=\"white-space:pre;overflow-x:auto;line-height:normal;font-family:Menlo,'DejaVu Sans Mono',consolas,'Courier New',monospace\"><span style=\"color: #7fbfbf; text-decoration-color: #7fbfbf\">[07/04/23 20:16:12] </span><span style=\"color: #000080; text-decoration-color: #000080\">INFO    </span> Resolved project path as: <span style=\"color: #800080; text-decoration-color: #800080\">/home/calychas/Projects/</span><span style=\"color: #ff00ff; text-decoration-color: #ff00ff\">srai-kedro.</span>          <a href=\"file:///home/calychas/Projects/srai-kedro/venv/lib/python3.10/site-packages/kedro/ipython/__init__.py\" target=\"_blank\"><span style=\"color: #7f7f7f; text-decoration-color: #7f7f7f\">__init__.py</span></a><span style=\"color: #7f7f7f; text-decoration-color: #7f7f7f\">:</span><a href=\"file:///home/calychas/Projects/srai-kedro/venv/lib/python3.10/site-packages/kedro/ipython/__init__.py#136\" target=\"_blank\"><span style=\"color: #7f7f7f; text-decoration-color: #7f7f7f\">136</span></a>\n",
       "<span style=\"color: #7fbfbf; text-decoration-color: #7fbfbf\">                    </span>         To set a different path, run <span style=\"color: #008000; text-decoration-color: #008000\">'%reload_kedro &lt;project_root&gt;'</span>            <span style=\"color: #7f7f7f; text-decoration-color: #7f7f7f\">               </span>\n",
       "</pre>\n"
      ],
      "text/plain": [
       "\u001b[2;36m[07/04/23 20:16:12]\u001b[0m\u001b[2;36m \u001b[0m\u001b[34mINFO    \u001b[0m Resolved project path as: \u001b[35m/home/calychas/Projects/\u001b[0m\u001b[95msrai-kedro.\u001b[0m          \u001b]8;id=381180;file:///home/calychas/Projects/srai-kedro/venv/lib/python3.10/site-packages/kedro/ipython/__init__.py\u001b\\\u001b[2m__init__.py\u001b[0m\u001b]8;;\u001b\\\u001b[2m:\u001b[0m\u001b]8;id=77501;file:///home/calychas/Projects/srai-kedro/venv/lib/python3.10/site-packages/kedro/ipython/__init__.py#136\u001b\\\u001b[2m136\u001b[0m\u001b]8;;\u001b\\\n",
       "\u001b[2;36m                    \u001b[0m         To set a different path, run \u001b[32m'%reload_kedro \u001b[0m\u001b[32m<\u001b[0m\u001b[32mproject_root\u001b[0m\u001b[32m>\u001b[0m\u001b[32m'\u001b[0m            \u001b[2m               \u001b[0m\n"
      ]
     },
     "metadata": {},
     "output_type": "display_data"
    },
    {
     "data": {
      "text/html": [
       "<pre style=\"white-space:pre;overflow-x:auto;line-height:normal;font-family:Menlo,'DejaVu Sans Mono',consolas,'Courier New',monospace\"><span style=\"color: #7fbfbf; text-decoration-color: #7fbfbf\">[07/04/23 20:16:13] </span><span style=\"color: #000080; text-decoration-color: #000080\">INFO    </span> The <span style=\"color: #008000; text-decoration-color: #008000\">'tracking_uri'</span> key in mlflow.yml is relative            <a href=\"file:///home/calychas/Projects/srai-kedro/venv/lib/python3.10/site-packages/kedro_mlflow/config/kedro_mlflow_config.py\" target=\"_blank\"><span style=\"color: #7f7f7f; text-decoration-color: #7f7f7f\">kedro_mlflow_config.py</span></a><span style=\"color: #7f7f7f; text-decoration-color: #7f7f7f\">:</span><a href=\"file:///home/calychas/Projects/srai-kedro/venv/lib/python3.10/site-packages/kedro_mlflow/config/kedro_mlflow_config.py#261\" target=\"_blank\"><span style=\"color: #7f7f7f; text-decoration-color: #7f7f7f\">261</span></a>\n",
       "<span style=\"color: #7fbfbf; text-decoration-color: #7fbfbf\">                    </span>         <span style=\"font-weight: bold\">(</span><span style=\"color: #008000; text-decoration-color: #008000\">'server.mlflow_(tracking|registry)_uri = mlruns'</span><span style=\"font-weight: bold\">)</span>. It is   <span style=\"color: #7f7f7f; text-decoration-color: #7f7f7f\">                          </span>\n",
       "<span style=\"color: #7fbfbf; text-decoration-color: #7fbfbf\">                    </span>         converted to a valid uri:                                   <span style=\"color: #7f7f7f; text-decoration-color: #7f7f7f\">                          </span>\n",
       "<span style=\"color: #7fbfbf; text-decoration-color: #7fbfbf\">                    </span>         <span style=\"color: #008000; text-decoration-color: #008000\">'file:///home/calychas/Projects/srai-kedro/mlruns'</span>          <span style=\"color: #7f7f7f; text-decoration-color: #7f7f7f\">                          </span>\n",
       "</pre>\n"
      ],
      "text/plain": [
       "\u001b[2;36m[07/04/23 20:16:13]\u001b[0m\u001b[2;36m \u001b[0m\u001b[34mINFO    \u001b[0m The \u001b[32m'tracking_uri'\u001b[0m key in mlflow.yml is relative            \u001b]8;id=595433;file:///home/calychas/Projects/srai-kedro/venv/lib/python3.10/site-packages/kedro_mlflow/config/kedro_mlflow_config.py\u001b\\\u001b[2mkedro_mlflow_config.py\u001b[0m\u001b]8;;\u001b\\\u001b[2m:\u001b[0m\u001b]8;id=736251;file:///home/calychas/Projects/srai-kedro/venv/lib/python3.10/site-packages/kedro_mlflow/config/kedro_mlflow_config.py#261\u001b\\\u001b[2m261\u001b[0m\u001b]8;;\u001b\\\n",
       "\u001b[2;36m                    \u001b[0m         \u001b[1m(\u001b[0m\u001b[32m'server.mlflow_\u001b[0m\u001b[32m(\u001b[0m\u001b[32mtracking|registry\u001b[0m\u001b[32m)\u001b[0m\u001b[32m_uri = mlruns'\u001b[0m\u001b[1m)\u001b[0m. It is   \u001b[2m                          \u001b[0m\n",
       "\u001b[2;36m                    \u001b[0m         converted to a valid uri:                                   \u001b[2m                          \u001b[0m\n",
       "\u001b[2;36m                    \u001b[0m         \u001b[32m'file:///home/calychas/Projects/srai-kedro/mlruns'\u001b[0m          \u001b[2m                          \u001b[0m\n"
      ]
     },
     "metadata": {},
     "output_type": "display_data"
    },
    {
     "data": {
      "text/html": [
       "<pre style=\"white-space:pre;overflow-x:auto;line-height:normal;font-family:Menlo,'DejaVu Sans Mono',consolas,'Courier New',monospace\"><span style=\"color: #7fbfbf; text-decoration-color: #7fbfbf\">[07/04/23 20:16:14] </span><span style=\"color: #000080; text-decoration-color: #000080\">INFO    </span> Kedro project Srai Kedro                                               <a href=\"file:///home/calychas/Projects/srai-kedro/venv/lib/python3.10/site-packages/kedro/ipython/__init__.py\" target=\"_blank\"><span style=\"color: #7f7f7f; text-decoration-color: #7f7f7f\">__init__.py</span></a><span style=\"color: #7f7f7f; text-decoration-color: #7f7f7f\">:</span><a href=\"file:///home/calychas/Projects/srai-kedro/venv/lib/python3.10/site-packages/kedro/ipython/__init__.py#105\" target=\"_blank\"><span style=\"color: #7f7f7f; text-decoration-color: #7f7f7f\">105</span></a>\n",
       "</pre>\n"
      ],
      "text/plain": [
       "\u001b[2;36m[07/04/23 20:16:14]\u001b[0m\u001b[2;36m \u001b[0m\u001b[34mINFO    \u001b[0m Kedro project Srai Kedro                                               \u001b]8;id=835929;file:///home/calychas/Projects/srai-kedro/venv/lib/python3.10/site-packages/kedro/ipython/__init__.py\u001b\\\u001b[2m__init__.py\u001b[0m\u001b]8;;\u001b\\\u001b[2m:\u001b[0m\u001b]8;id=657584;file:///home/calychas/Projects/srai-kedro/venv/lib/python3.10/site-packages/kedro/ipython/__init__.py#105\u001b\\\u001b[2m105\u001b[0m\u001b]8;;\u001b\\\n"
      ]
     },
     "metadata": {},
     "output_type": "display_data"
    },
    {
     "data": {
      "text/html": [
       "<pre style=\"white-space:pre;overflow-x:auto;line-height:normal;font-family:Menlo,'DejaVu Sans Mono',consolas,'Courier New',monospace\"><span style=\"color: #7fbfbf; text-decoration-color: #7fbfbf\">                    </span><span style=\"color: #000080; text-decoration-color: #000080\">INFO    </span> Defined global variable <span style=\"color: #008000; text-decoration-color: #008000\">'context'</span>, <span style=\"color: #008000; text-decoration-color: #008000\">'session'</span>, <span style=\"color: #008000; text-decoration-color: #008000\">'catalog'</span> and            <a href=\"file:///home/calychas/Projects/srai-kedro/venv/lib/python3.10/site-packages/kedro/ipython/__init__.py\" target=\"_blank\"><span style=\"color: #7f7f7f; text-decoration-color: #7f7f7f\">__init__.py</span></a><span style=\"color: #7f7f7f; text-decoration-color: #7f7f7f\">:</span><a href=\"file:///home/calychas/Projects/srai-kedro/venv/lib/python3.10/site-packages/kedro/ipython/__init__.py#106\" target=\"_blank\"><span style=\"color: #7f7f7f; text-decoration-color: #7f7f7f\">106</span></a>\n",
       "<span style=\"color: #7fbfbf; text-decoration-color: #7fbfbf\">                    </span>         <span style=\"color: #008000; text-decoration-color: #008000\">'pipelines'</span>                                                            <span style=\"color: #7f7f7f; text-decoration-color: #7f7f7f\">               </span>\n",
       "</pre>\n"
      ],
      "text/plain": [
       "\u001b[2;36m                   \u001b[0m\u001b[2;36m \u001b[0m\u001b[34mINFO    \u001b[0m Defined global variable \u001b[32m'context'\u001b[0m, \u001b[32m'session'\u001b[0m, \u001b[32m'catalog'\u001b[0m and            \u001b]8;id=553979;file:///home/calychas/Projects/srai-kedro/venv/lib/python3.10/site-packages/kedro/ipython/__init__.py\u001b\\\u001b[2m__init__.py\u001b[0m\u001b]8;;\u001b\\\u001b[2m:\u001b[0m\u001b]8;id=446641;file:///home/calychas/Projects/srai-kedro/venv/lib/python3.10/site-packages/kedro/ipython/__init__.py#106\u001b\\\u001b[2m106\u001b[0m\u001b]8;;\u001b\\\n",
       "\u001b[2;36m                    \u001b[0m         \u001b[32m'pipelines'\u001b[0m                                                            \u001b[2m               \u001b[0m\n"
      ]
     },
     "metadata": {},
     "output_type": "display_data"
    },
    {
     "data": {
      "text/html": [
       "<pre style=\"white-space:pre;overflow-x:auto;line-height:normal;font-family:Menlo,'DejaVu Sans Mono',consolas,'Courier New',monospace\"><span style=\"color: #7fbfbf; text-decoration-color: #7fbfbf\">                    </span><span style=\"color: #000080; text-decoration-color: #000080\">INFO    </span> Registered line magic <span style=\"color: #008000; text-decoration-color: #008000\">'run_viz'</span>                                        <a href=\"file:///home/calychas/Projects/srai-kedro/venv/lib/python3.10/site-packages/kedro/ipython/__init__.py\" target=\"_blank\"><span style=\"color: #7f7f7f; text-decoration-color: #7f7f7f\">__init__.py</span></a><span style=\"color: #7f7f7f; text-decoration-color: #7f7f7f\">:</span><a href=\"file:///home/calychas/Projects/srai-kedro/venv/lib/python3.10/site-packages/kedro/ipython/__init__.py#112\" target=\"_blank\"><span style=\"color: #7f7f7f; text-decoration-color: #7f7f7f\">112</span></a>\n",
       "</pre>\n"
      ],
      "text/plain": [
       "\u001b[2;36m                   \u001b[0m\u001b[2;36m \u001b[0m\u001b[34mINFO    \u001b[0m Registered line magic \u001b[32m'run_viz'\u001b[0m                                        \u001b]8;id=84254;file:///home/calychas/Projects/srai-kedro/venv/lib/python3.10/site-packages/kedro/ipython/__init__.py\u001b\\\u001b[2m__init__.py\u001b[0m\u001b]8;;\u001b\\\u001b[2m:\u001b[0m\u001b]8;id=701467;file:///home/calychas/Projects/srai-kedro/venv/lib/python3.10/site-packages/kedro/ipython/__init__.py#112\u001b\\\u001b[2m112\u001b[0m\u001b]8;;\u001b\\\n"
      ]
     },
     "metadata": {},
     "output_type": "display_data"
    },
    {
     "data": {
      "text/html": [
       "<pre style=\"white-space:pre;overflow-x:auto;line-height:normal;font-family:Menlo,'DejaVu Sans Mono',consolas,'Courier New',monospace\"><span style=\"color: #7fbfbf; text-decoration-color: #7fbfbf\">                    </span><span style=\"color: #000080; text-decoration-color: #000080\">INFO    </span> Resolved project path as: <span style=\"color: #800080; text-decoration-color: #800080\">/home/calychas/Projects/</span><span style=\"color: #ff00ff; text-decoration-color: #ff00ff\">srai-kedro.</span>          <a href=\"file:///home/calychas/Projects/srai-kedro/venv/lib/python3.10/site-packages/kedro/ipython/__init__.py\" target=\"_blank\"><span style=\"color: #7f7f7f; text-decoration-color: #7f7f7f\">__init__.py</span></a><span style=\"color: #7f7f7f; text-decoration-color: #7f7f7f\">:</span><a href=\"file:///home/calychas/Projects/srai-kedro/venv/lib/python3.10/site-packages/kedro/ipython/__init__.py#136\" target=\"_blank\"><span style=\"color: #7f7f7f; text-decoration-color: #7f7f7f\">136</span></a>\n",
       "<span style=\"color: #7fbfbf; text-decoration-color: #7fbfbf\">                    </span>         To set a different path, run <span style=\"color: #008000; text-decoration-color: #008000\">'%reload_kedro &lt;project_root&gt;'</span>            <span style=\"color: #7f7f7f; text-decoration-color: #7f7f7f\">               </span>\n",
       "</pre>\n"
      ],
      "text/plain": [
       "\u001b[2;36m                   \u001b[0m\u001b[2;36m \u001b[0m\u001b[34mINFO    \u001b[0m Resolved project path as: \u001b[35m/home/calychas/Projects/\u001b[0m\u001b[95msrai-kedro.\u001b[0m          \u001b]8;id=927605;file:///home/calychas/Projects/srai-kedro/venv/lib/python3.10/site-packages/kedro/ipython/__init__.py\u001b\\\u001b[2m__init__.py\u001b[0m\u001b]8;;\u001b\\\u001b[2m:\u001b[0m\u001b]8;id=233026;file:///home/calychas/Projects/srai-kedro/venv/lib/python3.10/site-packages/kedro/ipython/__init__.py#136\u001b\\\u001b[2m136\u001b[0m\u001b]8;;\u001b\\\n",
       "\u001b[2;36m                    \u001b[0m         To set a different path, run \u001b[32m'%reload_kedro \u001b[0m\u001b[32m<\u001b[0m\u001b[32mproject_root\u001b[0m\u001b[32m>\u001b[0m\u001b[32m'\u001b[0m            \u001b[2m               \u001b[0m\n"
      ]
     },
     "metadata": {},
     "output_type": "display_data"
    },
    {
     "data": {
      "text/html": [
       "<pre style=\"white-space:pre;overflow-x:auto;line-height:normal;font-family:Menlo,'DejaVu Sans Mono',consolas,'Courier New',monospace\"><span style=\"color: #7fbfbf; text-decoration-color: #7fbfbf\">                    </span><span style=\"color: #000080; text-decoration-color: #000080\">INFO    </span> The <span style=\"color: #008000; text-decoration-color: #008000\">'tracking_uri'</span> key in mlflow.yml is relative            <a href=\"file:///home/calychas/Projects/srai-kedro/venv/lib/python3.10/site-packages/kedro_mlflow/config/kedro_mlflow_config.py\" target=\"_blank\"><span style=\"color: #7f7f7f; text-decoration-color: #7f7f7f\">kedro_mlflow_config.py</span></a><span style=\"color: #7f7f7f; text-decoration-color: #7f7f7f\">:</span><a href=\"file:///home/calychas/Projects/srai-kedro/venv/lib/python3.10/site-packages/kedro_mlflow/config/kedro_mlflow_config.py#261\" target=\"_blank\"><span style=\"color: #7f7f7f; text-decoration-color: #7f7f7f\">261</span></a>\n",
       "<span style=\"color: #7fbfbf; text-decoration-color: #7fbfbf\">                    </span>         <span style=\"font-weight: bold\">(</span><span style=\"color: #008000; text-decoration-color: #008000\">'server.mlflow_(tracking|registry)_uri = mlruns'</span><span style=\"font-weight: bold\">)</span>. It is   <span style=\"color: #7f7f7f; text-decoration-color: #7f7f7f\">                          </span>\n",
       "<span style=\"color: #7fbfbf; text-decoration-color: #7fbfbf\">                    </span>         converted to a valid uri:                                   <span style=\"color: #7f7f7f; text-decoration-color: #7f7f7f\">                          </span>\n",
       "<span style=\"color: #7fbfbf; text-decoration-color: #7fbfbf\">                    </span>         <span style=\"color: #008000; text-decoration-color: #008000\">'file:///home/calychas/Projects/srai-kedro/mlruns'</span>          <span style=\"color: #7f7f7f; text-decoration-color: #7f7f7f\">                          </span>\n",
       "</pre>\n"
      ],
      "text/plain": [
       "\u001b[2;36m                   \u001b[0m\u001b[2;36m \u001b[0m\u001b[34mINFO    \u001b[0m The \u001b[32m'tracking_uri'\u001b[0m key in mlflow.yml is relative            \u001b]8;id=611923;file:///home/calychas/Projects/srai-kedro/venv/lib/python3.10/site-packages/kedro_mlflow/config/kedro_mlflow_config.py\u001b\\\u001b[2mkedro_mlflow_config.py\u001b[0m\u001b]8;;\u001b\\\u001b[2m:\u001b[0m\u001b]8;id=296210;file:///home/calychas/Projects/srai-kedro/venv/lib/python3.10/site-packages/kedro_mlflow/config/kedro_mlflow_config.py#261\u001b\\\u001b[2m261\u001b[0m\u001b]8;;\u001b\\\n",
       "\u001b[2;36m                    \u001b[0m         \u001b[1m(\u001b[0m\u001b[32m'server.mlflow_\u001b[0m\u001b[32m(\u001b[0m\u001b[32mtracking|registry\u001b[0m\u001b[32m)\u001b[0m\u001b[32m_uri = mlruns'\u001b[0m\u001b[1m)\u001b[0m. It is   \u001b[2m                          \u001b[0m\n",
       "\u001b[2;36m                    \u001b[0m         converted to a valid uri:                                   \u001b[2m                          \u001b[0m\n",
       "\u001b[2;36m                    \u001b[0m         \u001b[32m'file:///home/calychas/Projects/srai-kedro/mlruns'\u001b[0m          \u001b[2m                          \u001b[0m\n"
      ]
     },
     "metadata": {},
     "output_type": "display_data"
    },
    {
     "data": {
      "text/html": [
       "<pre style=\"white-space:pre;overflow-x:auto;line-height:normal;font-family:Menlo,'DejaVu Sans Mono',consolas,'Courier New',monospace\"><span style=\"color: #7fbfbf; text-decoration-color: #7fbfbf\">[07/04/23 20:16:15] </span><span style=\"color: #000080; text-decoration-color: #000080\">INFO    </span> Kedro project Srai Kedro                                               <a href=\"file:///home/calychas/Projects/srai-kedro/venv/lib/python3.10/site-packages/kedro/ipython/__init__.py\" target=\"_blank\"><span style=\"color: #7f7f7f; text-decoration-color: #7f7f7f\">__init__.py</span></a><span style=\"color: #7f7f7f; text-decoration-color: #7f7f7f\">:</span><a href=\"file:///home/calychas/Projects/srai-kedro/venv/lib/python3.10/site-packages/kedro/ipython/__init__.py#105\" target=\"_blank\"><span style=\"color: #7f7f7f; text-decoration-color: #7f7f7f\">105</span></a>\n",
       "</pre>\n"
      ],
      "text/plain": [
       "\u001b[2;36m[07/04/23 20:16:15]\u001b[0m\u001b[2;36m \u001b[0m\u001b[34mINFO    \u001b[0m Kedro project Srai Kedro                                               \u001b]8;id=563726;file:///home/calychas/Projects/srai-kedro/venv/lib/python3.10/site-packages/kedro/ipython/__init__.py\u001b\\\u001b[2m__init__.py\u001b[0m\u001b]8;;\u001b\\\u001b[2m:\u001b[0m\u001b]8;id=104988;file:///home/calychas/Projects/srai-kedro/venv/lib/python3.10/site-packages/kedro/ipython/__init__.py#105\u001b\\\u001b[2m105\u001b[0m\u001b]8;;\u001b\\\n"
      ]
     },
     "metadata": {},
     "output_type": "display_data"
    },
    {
     "data": {
      "text/html": [
       "<pre style=\"white-space:pre;overflow-x:auto;line-height:normal;font-family:Menlo,'DejaVu Sans Mono',consolas,'Courier New',monospace\"><span style=\"color: #7fbfbf; text-decoration-color: #7fbfbf\">                    </span><span style=\"color: #000080; text-decoration-color: #000080\">INFO    </span> Defined global variable <span style=\"color: #008000; text-decoration-color: #008000\">'context'</span>, <span style=\"color: #008000; text-decoration-color: #008000\">'session'</span>, <span style=\"color: #008000; text-decoration-color: #008000\">'catalog'</span> and            <a href=\"file:///home/calychas/Projects/srai-kedro/venv/lib/python3.10/site-packages/kedro/ipython/__init__.py\" target=\"_blank\"><span style=\"color: #7f7f7f; text-decoration-color: #7f7f7f\">__init__.py</span></a><span style=\"color: #7f7f7f; text-decoration-color: #7f7f7f\">:</span><a href=\"file:///home/calychas/Projects/srai-kedro/venv/lib/python3.10/site-packages/kedro/ipython/__init__.py#106\" target=\"_blank\"><span style=\"color: #7f7f7f; text-decoration-color: #7f7f7f\">106</span></a>\n",
       "<span style=\"color: #7fbfbf; text-decoration-color: #7fbfbf\">                    </span>         <span style=\"color: #008000; text-decoration-color: #008000\">'pipelines'</span>                                                            <span style=\"color: #7f7f7f; text-decoration-color: #7f7f7f\">               </span>\n",
       "</pre>\n"
      ],
      "text/plain": [
       "\u001b[2;36m                   \u001b[0m\u001b[2;36m \u001b[0m\u001b[34mINFO    \u001b[0m Defined global variable \u001b[32m'context'\u001b[0m, \u001b[32m'session'\u001b[0m, \u001b[32m'catalog'\u001b[0m and            \u001b]8;id=208564;file:///home/calychas/Projects/srai-kedro/venv/lib/python3.10/site-packages/kedro/ipython/__init__.py\u001b\\\u001b[2m__init__.py\u001b[0m\u001b]8;;\u001b\\\u001b[2m:\u001b[0m\u001b]8;id=556830;file:///home/calychas/Projects/srai-kedro/venv/lib/python3.10/site-packages/kedro/ipython/__init__.py#106\u001b\\\u001b[2m106\u001b[0m\u001b]8;;\u001b\\\n",
       "\u001b[2;36m                    \u001b[0m         \u001b[32m'pipelines'\u001b[0m                                                            \u001b[2m               \u001b[0m\n"
      ]
     },
     "metadata": {},
     "output_type": "display_data"
    },
    {
     "data": {
      "text/html": [
       "<pre style=\"white-space:pre;overflow-x:auto;line-height:normal;font-family:Menlo,'DejaVu Sans Mono',consolas,'Courier New',monospace\"><span style=\"color: #7fbfbf; text-decoration-color: #7fbfbf\">                    </span><span style=\"color: #000080; text-decoration-color: #000080\">INFO    </span> Registered line magic <span style=\"color: #008000; text-decoration-color: #008000\">'run_viz'</span>                                        <a href=\"file:///home/calychas/Projects/srai-kedro/venv/lib/python3.10/site-packages/kedro/ipython/__init__.py\" target=\"_blank\"><span style=\"color: #7f7f7f; text-decoration-color: #7f7f7f\">__init__.py</span></a><span style=\"color: #7f7f7f; text-decoration-color: #7f7f7f\">:</span><a href=\"file:///home/calychas/Projects/srai-kedro/venv/lib/python3.10/site-packages/kedro/ipython/__init__.py#112\" target=\"_blank\"><span style=\"color: #7f7f7f; text-decoration-color: #7f7f7f\">112</span></a>\n",
       "</pre>\n"
      ],
      "text/plain": [
       "\u001b[2;36m                   \u001b[0m\u001b[2;36m \u001b[0m\u001b[34mINFO    \u001b[0m Registered line magic \u001b[32m'run_viz'\u001b[0m                                        \u001b]8;id=661220;file:///home/calychas/Projects/srai-kedro/venv/lib/python3.10/site-packages/kedro/ipython/__init__.py\u001b\\\u001b[2m__init__.py\u001b[0m\u001b]8;;\u001b\\\u001b[2m:\u001b[0m\u001b]8;id=196213;file:///home/calychas/Projects/srai-kedro/venv/lib/python3.10/site-packages/kedro/ipython/__init__.py#112\u001b\\\u001b[2m112\u001b[0m\u001b]8;;\u001b\\\n"
      ]
     },
     "metadata": {},
     "output_type": "display_data"
    }
   ],
   "source": [
    "%load_ext kedro.ipython\n",
    "%reload_kedro"
   ]
  },
  {
   "cell_type": "code",
   "execution_count": 2,
   "metadata": {},
   "outputs": [],
   "source": [
    "import pandas as pd"
   ]
  },
  {
   "cell_type": "code",
   "execution_count": 3,
   "metadata": {},
   "outputs": [
    {
     "data": {
      "text/html": [
       "<pre style=\"white-space:pre;overflow-x:auto;line-height:normal;font-family:Menlo,'DejaVu Sans Mono',consolas,'Courier New',monospace\"><span style=\"color: #7fbfbf; text-decoration-color: #7fbfbf\">                    </span><span style=\"color: #000080; text-decoration-color: #000080\">INFO    </span> Loading data from <span style=\"color: #008000; text-decoration-color: #008000\">'areas'</span> <span style=\"font-weight: bold\">(</span>PartitionedDataset<span style=\"font-weight: bold\">)</span><span style=\"color: #808000; text-decoration-color: #808000\">...</span>                  <a href=\"file:///home/calychas/Projects/srai-kedro/venv/lib/python3.10/site-packages/kedro/io/data_catalog.py\" target=\"_blank\"><span style=\"color: #7f7f7f; text-decoration-color: #7f7f7f\">data_catalog.py</span></a><span style=\"color: #7f7f7f; text-decoration-color: #7f7f7f\">:</span><a href=\"file:///home/calychas/Projects/srai-kedro/venv/lib/python3.10/site-packages/kedro/io/data_catalog.py#345\" target=\"_blank\"><span style=\"color: #7f7f7f; text-decoration-color: #7f7f7f\">345</span></a>\n",
       "</pre>\n"
      ],
      "text/plain": [
       "\u001b[2;36m                   \u001b[0m\u001b[2;36m \u001b[0m\u001b[34mINFO    \u001b[0m Loading data from \u001b[32m'areas'\u001b[0m \u001b[1m(\u001b[0mPartitionedDataset\u001b[1m)\u001b[0m\u001b[33m...\u001b[0m                  \u001b]8;id=199422;file:///home/calychas/Projects/srai-kedro/venv/lib/python3.10/site-packages/kedro/io/data_catalog.py\u001b\\\u001b[2mdata_catalog.py\u001b[0m\u001b]8;;\u001b\\\u001b[2m:\u001b[0m\u001b]8;id=289931;file:///home/calychas/Projects/srai-kedro/venv/lib/python3.10/site-packages/kedro/io/data_catalog.py#345\u001b\\\u001b[2m345\u001b[0m\u001b]8;;\u001b\\\n"
      ]
     },
     "metadata": {},
     "output_type": "display_data"
    },
    {
     "data": {
      "text/html": [
       "<div>\n",
       "<style scoped>\n",
       "    .dataframe tbody tr th:only-of-type {\n",
       "        vertical-align: middle;\n",
       "    }\n",
       "\n",
       "    .dataframe tbody tr th {\n",
       "        vertical-align: top;\n",
       "    }\n",
       "\n",
       "    .dataframe thead th {\n",
       "        text-align: right;\n",
       "    }\n",
       "</style>\n",
       "<table border=\"1\" class=\"dataframe\">\n",
       "  <thead>\n",
       "    <tr style=\"text-align: right;\">\n",
       "      <th></th>\n",
       "      <th>geometry</th>\n",
       "    </tr>\n",
       "    <tr>\n",
       "      <th>region_id</th>\n",
       "      <th></th>\n",
       "    </tr>\n",
       "  </thead>\n",
       "  <tbody>\n",
       "    <tr>\n",
       "      <th>Białystok, Białystok County, Podlaskie Voivodeship, Poland</th>\n",
       "      <td>POLYGON ((23.06579 53.12769, 23.06678 53.12601...</td>\n",
       "    </tr>\n",
       "    <tr>\n",
       "      <th>Bydgoszcz, Kuyavian-Pomeranian Voivodeship, Poland</th>\n",
       "      <td>POLYGON ((17.87417 53.14201, 17.87456 53.14202...</td>\n",
       "    </tr>\n",
       "    <tr>\n",
       "      <th>Częstochowa, Silesian Voivodeship, Poland</th>\n",
       "      <td>POLYGON ((19.01125 50.78720, 19.01127 50.78691...</td>\n",
       "    </tr>\n",
       "    <tr>\n",
       "      <th>Gdańsk, Pomeranian Voivodeship, Poland</th>\n",
       "      <td>POLYGON ((18.42950 54.38505, 18.42963 54.38503...</td>\n",
       "    </tr>\n",
       "    <tr>\n",
       "      <th>Gdynia, Pomeranian Voivodeship, Poland</th>\n",
       "      <td>POLYGON ((18.35798 54.49324, 18.35801 54.49320...</td>\n",
       "    </tr>\n",
       "    <tr>\n",
       "      <th>Katowice, Górnośląsko-Zagłębiowska Metropolia, Silesian Voivodeship, Poland</th>\n",
       "      <td>POLYGON ((18.89154 50.23313, 18.89267 50.23026...</td>\n",
       "    </tr>\n",
       "    <tr>\n",
       "      <th>Krakow, Lesser Poland Voivodeship, Poland</th>\n",
       "      <td>POLYGON ((19.79224 50.01180, 19.79238 50.01104...</td>\n",
       "    </tr>\n",
       "    <tr>\n",
       "      <th>Łódź, Łódzkie Voivodship, Poland</th>\n",
       "      <td>POLYGON ((19.32086 51.80809, 19.32219 51.80576...</td>\n",
       "    </tr>\n",
       "    <tr>\n",
       "      <th>Lublin, Lublin Voivodeship, Poland</th>\n",
       "      <td>POLYGON ((22.45379 51.21524, 22.45386 51.21523...</td>\n",
       "    </tr>\n",
       "    <tr>\n",
       "      <th>Poznań, Poznań County, Greater Poland Voivodeship, Poland</th>\n",
       "      <td>POLYGON ((16.73159 52.46375, 16.73162 52.46365...</td>\n",
       "    </tr>\n",
       "    <tr>\n",
       "      <th>Radom, Masovian Voivodeship, Poland</th>\n",
       "      <td>POLYGON ((21.05319 51.37492, 21.05355 51.37436...</td>\n",
       "    </tr>\n",
       "    <tr>\n",
       "      <th>Sopot, Pomeranian Voivodeship, Poland</th>\n",
       "      <td>POLYGON ((18.50448 54.44500, 18.50469 54.44474...</td>\n",
       "    </tr>\n",
       "    <tr>\n",
       "      <th>Świdnica, Świdnica County, Lower Silesian Voivodeship, Poland</th>\n",
       "      <td>POLYGON ((16.45537 50.84524, 16.45538 50.84504...</td>\n",
       "    </tr>\n",
       "    <tr>\n",
       "      <th>Szczecin, West Pomeranian Voivodeship, Poland</th>\n",
       "      <td>POLYGON ((14.44383 53.48477, 14.44498 53.48458...</td>\n",
       "    </tr>\n",
       "    <tr>\n",
       "      <th>Warsaw, Masovian Voivodeship, Poland</th>\n",
       "      <td>POLYGON ((20.85169 52.20098, 20.85170 52.20084...</td>\n",
       "    </tr>\n",
       "    <tr>\n",
       "      <th>Wrocław, Lower Silesian Voivodeship, Poland</th>\n",
       "      <td>POLYGON ((16.80734 51.13895, 16.80859 51.13887...</td>\n",
       "    </tr>\n",
       "    <tr>\n",
       "      <th>Zielona Góra, Lubusz Voivodeship, Poland</th>\n",
       "      <td>POLYGON ((15.40595 51.94958, 15.40952 51.94842...</td>\n",
       "    </tr>\n",
       "  </tbody>\n",
       "</table>\n",
       "</div>"
      ],
      "text/plain": [
       "                                                                                             geometry\n",
       "region_id                                                                                            \n",
       "Białystok, Białystok County, Podlaskie Voivodes...  POLYGON ((23.06579 53.12769, 23.06678 53.12601...\n",
       "Bydgoszcz, Kuyavian-Pomeranian Voivodeship, Poland  POLYGON ((17.87417 53.14201, 17.87456 53.14202...\n",
       "Częstochowa, Silesian Voivodeship, Poland           POLYGON ((19.01125 50.78720, 19.01127 50.78691...\n",
       "Gdańsk, Pomeranian Voivodeship, Poland              POLYGON ((18.42950 54.38505, 18.42963 54.38503...\n",
       "Gdynia, Pomeranian Voivodeship, Poland              POLYGON ((18.35798 54.49324, 18.35801 54.49320...\n",
       "Katowice, Górnośląsko-Zagłębiowska Metropolia, ...  POLYGON ((18.89154 50.23313, 18.89267 50.23026...\n",
       "Krakow, Lesser Poland Voivodeship, Poland           POLYGON ((19.79224 50.01180, 19.79238 50.01104...\n",
       "Łódź, Łódzkie Voivodship, Poland                    POLYGON ((19.32086 51.80809, 19.32219 51.80576...\n",
       "Lublin, Lublin Voivodeship, Poland                  POLYGON ((22.45379 51.21524, 22.45386 51.21523...\n",
       "Poznań, Poznań County, Greater Poland Voivodesh...  POLYGON ((16.73159 52.46375, 16.73162 52.46365...\n",
       "Radom, Masovian Voivodeship, Poland                 POLYGON ((21.05319 51.37492, 21.05355 51.37436...\n",
       "Sopot, Pomeranian Voivodeship, Poland               POLYGON ((18.50448 54.44500, 18.50469 54.44474...\n",
       "Świdnica, Świdnica County, Lower Silesian Voivo...  POLYGON ((16.45537 50.84524, 16.45538 50.84504...\n",
       "Szczecin, West Pomeranian Voivodeship, Poland       POLYGON ((14.44383 53.48477, 14.44498 53.48458...\n",
       "Warsaw, Masovian Voivodeship, Poland                POLYGON ((20.85169 52.20098, 20.85170 52.20084...\n",
       "Wrocław, Lower Silesian Voivodeship, Poland         POLYGON ((16.80734 51.13895, 16.80859 51.13887...\n",
       "Zielona Góra, Lubusz Voivodeship, Poland            POLYGON ((15.40595 51.94958, 15.40952 51.94842..."
      ]
     },
     "execution_count": 3,
     "metadata": {},
     "output_type": "execute_result"
    }
   ],
   "source": [
    "df = pd.concat([df_func() for df_func in catalog.load(\"areas\").values()])\n",
    "df"
   ]
  },
  {
   "cell_type": "code",
   "execution_count": null,
   "metadata": {},
   "outputs": [],
   "source": []
  }
 ],
 "metadata": {
  "kernelspec": {
   "display_name": "venv",
   "language": "python",
   "name": "python3"
  },
  "language_info": {
   "codemirror_mode": {
    "name": "ipython",
    "version": 3
   },
   "file_extension": ".py",
   "mimetype": "text/x-python",
   "name": "python",
   "nbconvert_exporter": "python",
   "pygments_lexer": "ipython3",
   "version": "3.10.10"
  },
  "orig_nbformat": 4
 },
 "nbformat": 4,
 "nbformat_minor": 2
}
