{
 "cells": [
  {
   "cell_type": "code",
   "execution_count": null,
   "metadata": {},
   "outputs": [],
   "source": [
    "%load_ext kedro.ipython\n",
    "%reload_kedro"
   ]
  },
  {
   "cell_type": "code",
   "execution_count": null,
   "metadata": {},
   "outputs": [],
   "source": [
    "from scipy.cluster.hierarchy import cut_tree\n",
    "from tqdm.auto import tqdm\n",
    "import pandas as pd\n",
    "import geopandas as gpd\n",
    "import matplotlib.pyplot as plt\n",
    "import contextily as ctx\n",
    "import matplotlib\n",
    "from matplotlib.figure import Figure\n",
    "from srai_kedro.pipelines.processing.nodes import _load_gdf\n",
    "from typing import Tuple"
   ]
  },
  {
   "cell_type": "code",
   "execution_count": null,
   "metadata": {},
   "outputs": [],
   "source": [
    "regions_clustered = catalog.load(\"regions_clustered\")\n",
    "regions_clustered"
   ]
  },
  {
   "cell_type": "code",
   "execution_count": null,
   "metadata": {},
   "outputs": [],
   "source": [
    "clusters = catalog.load(\"params:clustering.clusters\")\n",
    "clusters"
   ]
  },
  {
   "cell_type": "code",
   "execution_count": null,
   "metadata": {},
   "outputs": [],
   "source": [
    "roads = catalog.load(\"roads_concat\")\n",
    "roads"
   ]
  },
  {
   "cell_type": "code",
   "execution_count": null,
   "metadata": {},
   "outputs": [],
   "source": [
    "areas = catalog.load(\"areas\")\n",
    "areas = {k: _load_gdf(v) for k, v in areas.items()}\n",
    "areas"
   ]
  },
  {
   "cell_type": "code",
   "execution_count": null,
   "metadata": {},
   "outputs": [],
   "source": [
    "MAP_SOURCE = ctx.providers.CartoDB.Positron\n",
    "MATPLOTLIB_COLORMAP = 'tab20'\n",
    "PLOTLY_COLORMAP = list(map(lambda color: f\"rgb{tuple(map(lambda color_compound: color_compound * 255, color))}\", matplotlib.colormaps[MATPLOTLIB_COLORMAP].colors))\n",
    "\n",
    "\n",
    "def pyplot_clustered_regions_with_roads(regions: gpd.GeoDataFrame, roads: gpd.GeoDataFrame, column: str, title: str = \"\") -> Tuple[Figure, plt.Axes]:\n",
    "    fig, ax = plt.subplots(figsize=(10, 9))\n",
    "    ax.set_aspect('equal')\n",
    "    ax.set_title(title)\n",
    "    regions.to_crs(epsg=3857).plot(column=column, ax=ax, alpha=0.9, legend=True, cmap=MATPLOTLIB_COLORMAP, vmin=0, vmax=len(PLOTLY_COLORMAP), linewidth=0)\n",
    "    roads.to_crs(epsg=3857).plot(ax=ax, color=\"black\", alpha=0.5, linewidth=0.2)\n",
    "    ctx.add_basemap(ax, source=MAP_SOURCE)\n",
    "    return fig, ax\n",
    "\n",
    "\n",
    "area = areas[\"Wroclaw_Poland\"]\n",
    "\n",
    "for idx, c in enumerate(clusters):\n",
    "    fig, ax = pyplot_clustered_regions_with_roads(regions_clustered.sjoin(area), roads.sjoin(area), f\"cluster_{c}\", title=f\"cluster_{c}\")\n",
    "    ax.set_axis_off()\n",
    "    plt.tight_layout()"
   ]
  }
 ],
 "metadata": {
  "kernelspec": {
   "display_name": "venv",
   "language": "python",
   "name": "python3"
  },
  "language_info": {
   "codemirror_mode": {
    "name": "ipython",
    "version": 3
   },
   "file_extension": ".py",
   "mimetype": "text/x-python",
   "name": "python",
   "nbconvert_exporter": "python",
   "pygments_lexer": "ipython3",
   "version": "3.10.10"
  },
  "orig_nbformat": 4
 },
 "nbformat": 4,
 "nbformat_minor": 2
}
